{
 "cells": [
  {
   "cell_type": "code",
   "execution_count": 1,
   "id": "0a853880",
   "metadata": {},
   "outputs": [
    {
     "name": "stdout",
     "output_type": "stream",
     "text": [
      "Hello, World!\n"
     ]
    }
   ],
   "source": [
    "print (\"Hello, World!\")"
   ]
  },
  {
   "cell_type": "code",
   "execution_count": 4,
   "id": "b135347b",
   "metadata": {},
   "outputs": [
    {
     "name": "stdout",
     "output_type": "stream",
     "text": [
      "2000\n",
      "Leap Year\n"
     ]
    }
   ],
   "source": [
    "a=int(input())\n",
    "if a%400==0 and a%100==0:\n",
    "    print(\"Leap Year\")\n",
    "elif a%4==0 and a%100!=0:\n",
    "    print(\"Leap Year\")\n",
    "else:\n",
    "    print(\"Not a Leap Year\")"
   ]
  },
  {
   "cell_type": "code",
   "execution_count": 9,
   "id": "e9d0f2eb",
   "metadata": {},
   "outputs": [],
   "source": [
    "def is_leap(year):\n",
    "    if year%400==0 and year%100==0:\n",
    "        return True\n",
    "    elif year%4==0 and year%100!=0:\n",
    "        return True\n",
    "    else:\n",
    "        return False\n",
    "    "
   ]
  },
  {
   "cell_type": "code",
   "execution_count": 13,
   "id": "7cace619",
   "metadata": {},
   "outputs": [
    {
     "name": "stdout",
     "output_type": "stream",
     "text": [
      "2003\n",
      "False\n"
     ]
    }
   ],
   "source": [
    "year = int(input())\n",
    "print(is_leap(year))"
   ]
  },
  {
   "cell_type": "code",
   "execution_count": null,
   "id": "32262a3e",
   "metadata": {},
   "outputs": [],
   "source": [
    "x=int(input())\n",
    "y=int(input())\n",
    "z=int(input())\n",
    "n=int(input())\n",
    "if x+y+z!=n:\n",
    "    "
   ]
  },
  {
   "cell_type": "code",
   "execution_count": 93,
   "id": "09b86f10",
   "metadata": {},
   "outputs": [
    {
     "name": "stdout",
     "output_type": "stream",
     "text": [
      "4\n",
      "-1 -1 1 2 \n"
     ]
    },
    {
     "data": {
      "text/plain": [
       "1"
      ]
     },
     "execution_count": 93,
     "metadata": {},
     "output_type": "execute_result"
    }
   ],
   "source": [
    "n=int(input())\n",
    "arr=list(map(int,input().split()))\n",
    "arr=list(set(arr))\n",
    "arr.sort()\n",
    "arr[-2]"
   ]
  },
  {
   "cell_type": "code",
   "execution_count": null,
   "id": "8897c952",
   "metadata": {},
   "outputs": [],
   "source": [
    "12\n",
    "insert 0 5\n",
    "insert 1 10\n",
    "insert 0 6\n",
    "print\n",
    "remove 6\n",
    "append 9\n",
    "append 1\n",
    "sort\n",
    "print\n",
    "pop\n",
    "reverse\n",
    "print"
   ]
  },
  {
   "cell_type": "code",
   "execution_count": null,
   "id": "ffdc3c76",
   "metadata": {},
   "outputs": [],
   "source": [
    "Consider a list (list = []). You can perform the following commands:\n",
    "\n",
    "insert i e: Insert integer  at position .\n",
    "print: Print the list.\n",
    "remove e: Delete the first occurrence of integer .\n",
    "append e: Insert integer  at the end of the list.\n",
    "sort: Sort the list.\n",
    "pop: Pop the last element from the list.\n",
    "reverse: Reverse the list.\n",
    "    \n",
    "[6, 5, 10]\n",
    "[1, 5, 9, 10]\n",
    "[9, 5, 1]"
   ]
  },
  {
   "cell_type": "code",
   "execution_count": null,
   "id": "29e6b615",
   "metadata": {},
   "outputs": [],
   "source": [
    "N=int(input())\n",
    "l=[]\n",
    "l.append(i)"
   ]
  },
  {
   "cell_type": "code",
   "execution_count": null,
   "id": "a5a9615a",
   "metadata": {},
   "outputs": [],
   "source": []
  },
  {
   "cell_type": "code",
   "execution_count": null,
   "id": "ab5cce75",
   "metadata": {},
   "outputs": [],
   "source": []
  },
  {
   "cell_type": "code",
   "execution_count": null,
   "id": "9dc761a8",
   "metadata": {},
   "outputs": [],
   "source": []
  },
  {
   "cell_type": "code",
   "execution_count": null,
   "id": "866149ff",
   "metadata": {},
   "outputs": [],
   "source": []
  },
  {
   "cell_type": "code",
   "execution_count": null,
   "id": "cf9daf53",
   "metadata": {},
   "outputs": [],
   "source": []
  },
  {
   "cell_type": "code",
   "execution_count": 94,
   "id": "c6f66a98",
   "metadata": {},
   "outputs": [],
   "source": [
    "# LEET CODE"
   ]
  },
  {
   "cell_type": "code",
   "execution_count": 109,
   "id": "1e876df6",
   "metadata": {},
   "outputs": [
    {
     "name": "stdout",
     "output_type": "stream",
     "text": [
      "[1, 3, 6, 10, 15]\n"
     ]
    }
   ],
   "source": [
    "l=[1,2,3,4,5]\n",
    "m=[]\n",
    "for i in l:\n",
    "    if sum(m)==0:\n",
    "        m.append(sum(m)+i)\n",
    "    else:\n",
    "        m.append(m[-1]+i)\n",
    "print(m)\n",
    "    \n",
    "    "
   ]
  },
  {
   "cell_type": "code",
   "execution_count": 113,
   "id": "5260e2ad",
   "metadata": {},
   "outputs": [
    {
     "ename": "NameError",
     "evalue": "name 'List' is not defined",
     "output_type": "error",
     "traceback": [
      "\u001b[1;31m---------------------------------------------------------------------------\u001b[0m",
      "\u001b[1;31mNameError\u001b[0m                                 Traceback (most recent call last)",
      "\u001b[1;32m~\\AppData\\Local\\Temp/ipykernel_1632/3013491681.py\u001b[0m in \u001b[0;36m<module>\u001b[1;34m\u001b[0m\n\u001b[0;32m      3\u001b[0m \u001b[1;31m#Explanation: Running sum is obtained as follows: [1, 1+2, 1+2+3, 1+2+3+4].\u001b[0m\u001b[1;33m\u001b[0m\u001b[1;33m\u001b[0m\u001b[0m\n\u001b[0;32m      4\u001b[0m \u001b[1;33m\u001b[0m\u001b[0m\n\u001b[1;32m----> 5\u001b[1;33m \u001b[1;32mclass\u001b[0m \u001b[0mSolution\u001b[0m\u001b[1;33m:\u001b[0m\u001b[1;33m\u001b[0m\u001b[1;33m\u001b[0m\u001b[0m\n\u001b[0m\u001b[0;32m      6\u001b[0m     \u001b[1;32mdef\u001b[0m \u001b[0mrunningSum\u001b[0m\u001b[1;33m(\u001b[0m\u001b[0mself\u001b[0m\u001b[1;33m,\u001b[0m \u001b[0mnums\u001b[0m\u001b[1;33m:\u001b[0m \u001b[0mList\u001b[0m\u001b[1;33m[\u001b[0m\u001b[0mint\u001b[0m\u001b[1;33m]\u001b[0m\u001b[1;33m)\u001b[0m \u001b[1;33m->\u001b[0m \u001b[0mList\u001b[0m\u001b[1;33m[\u001b[0m\u001b[0mint\u001b[0m\u001b[1;33m]\u001b[0m\u001b[1;33m:\u001b[0m\u001b[1;33m\u001b[0m\u001b[1;33m\u001b[0m\u001b[0m\n\u001b[0;32m      7\u001b[0m         \u001b[0mm\u001b[0m\u001b[1;33m=\u001b[0m\u001b[1;33m[\u001b[0m\u001b[1;33m]\u001b[0m\u001b[1;33m\u001b[0m\u001b[1;33m\u001b[0m\u001b[0m\n",
      "\u001b[1;32m~\\AppData\\Local\\Temp/ipykernel_1632/3013491681.py\u001b[0m in \u001b[0;36mSolution\u001b[1;34m()\u001b[0m\n\u001b[0;32m      4\u001b[0m \u001b[1;33m\u001b[0m\u001b[0m\n\u001b[0;32m      5\u001b[0m \u001b[1;32mclass\u001b[0m \u001b[0mSolution\u001b[0m\u001b[1;33m:\u001b[0m\u001b[1;33m\u001b[0m\u001b[1;33m\u001b[0m\u001b[0m\n\u001b[1;32m----> 6\u001b[1;33m     \u001b[1;32mdef\u001b[0m \u001b[0mrunningSum\u001b[0m\u001b[1;33m(\u001b[0m\u001b[0mself\u001b[0m\u001b[1;33m,\u001b[0m \u001b[0mnums\u001b[0m\u001b[1;33m:\u001b[0m \u001b[0mList\u001b[0m\u001b[1;33m[\u001b[0m\u001b[0mint\u001b[0m\u001b[1;33m]\u001b[0m\u001b[1;33m)\u001b[0m \u001b[1;33m->\u001b[0m \u001b[0mList\u001b[0m\u001b[1;33m[\u001b[0m\u001b[0mint\u001b[0m\u001b[1;33m]\u001b[0m\u001b[1;33m:\u001b[0m\u001b[1;33m\u001b[0m\u001b[1;33m\u001b[0m\u001b[0m\n\u001b[0m\u001b[0;32m      7\u001b[0m         \u001b[0mm\u001b[0m\u001b[1;33m=\u001b[0m\u001b[1;33m[\u001b[0m\u001b[1;33m]\u001b[0m\u001b[1;33m\u001b[0m\u001b[1;33m\u001b[0m\u001b[0m\n\u001b[0;32m      8\u001b[0m         \u001b[1;32mfor\u001b[0m \u001b[0mi\u001b[0m \u001b[1;32min\u001b[0m \u001b[0mnums\u001b[0m\u001b[1;33m:\u001b[0m\u001b[1;33m\u001b[0m\u001b[1;33m\u001b[0m\u001b[0m\n",
      "\u001b[1;31mNameError\u001b[0m: name 'List' is not defined"
     ]
    }
   ],
   "source": [
    "#Input: nums = [1,2,3,4]\n",
    "#Output: [1,3,6,10]\n",
    "#Explanation: Running sum is obtained as follows: [1, 1+2, 1+2+3, 1+2+3+4].\n",
    "        \n",
    "class Solution:\n",
    "    def runningSum(self, nums: List[int]) -> List[int]:\n",
    "        m=[]\n",
    "        for i in nums:\n",
    "            if sum(m)==0:\n",
    "                m.append(i)\n",
    "            else:\n",
    "                m.append(m[-1]+i)\n",
    "        return m"
   ]
  },
  {
   "cell_type": "code",
   "execution_count": 182,
   "id": "a00b8dc8",
   "metadata": {},
   "outputs": [],
   "source": [
    "a=[1,2,3,4,5,6,7,8]\n",
    "m1=a[:int(len(a)/2)]\n",
    "m2=a[int(len(a)/2):]"
   ]
  },
  {
   "cell_type": "code",
   "execution_count": 184,
   "id": "cfae2d0d",
   "metadata": {},
   "outputs": [],
   "source": [
    "b=[]\n",
    "while True:\n",
    "    try:\n",
    "        b.append(m1.pop(0))\n",
    "        b.append(m2.pop(0))\n",
    "    except IndexError:\n",
    "        break"
   ]
  },
  {
   "cell_type": "code",
   "execution_count": 185,
   "id": "b2fe6580",
   "metadata": {},
   "outputs": [
    {
     "data": {
      "text/plain": [
       "[1, 5, 2, 6, 3, 7, 4, 8]"
      ]
     },
     "execution_count": 185,
     "metadata": {},
     "output_type": "execute_result"
    }
   ],
   "source": [
    "b"
   ]
  },
  {
   "cell_type": "code",
   "execution_count": null,
   "id": "779cbc94",
   "metadata": {},
   "outputs": [],
   "source": [
    "a=a.append(m1[::2])\n",
    "a=a.append(m2[1::2])\n",
    "print(a)"
   ]
  },
  {
   "cell_type": "code",
   "execution_count": null,
   "id": "51638103",
   "metadata": {},
   "outputs": [],
   "source": [
    "class Solution:\n",
    "    def shuffle(self, nums: List[int], n: int) -> List[int]:\n",
    "        m1=nums[:int(len(nums)/2)]\n",
    "        m2=nums[int(len(nums)/2):]  \n",
    "        b=[]\n",
    "        while True:\n",
    "            try:\n",
    "                b.append(m1.pop(0))\n",
    "                b.append(m2.pop(0))\n",
    "            except IndexError:\n",
    "                break\n",
    "        return b"
   ]
  }
 ],
 "metadata": {
  "kernelspec": {
   "display_name": "Python 3 (ipykernel)",
   "language": "python",
   "name": "python3"
  },
  "language_info": {
   "codemirror_mode": {
    "name": "ipython",
    "version": 3
   },
   "file_extension": ".py",
   "mimetype": "text/x-python",
   "name": "python",
   "nbconvert_exporter": "python",
   "pygments_lexer": "ipython3",
   "version": "3.9.7"
  }
 },
 "nbformat": 4,
 "nbformat_minor": 5
}
